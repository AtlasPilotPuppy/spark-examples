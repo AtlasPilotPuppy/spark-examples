{
 "metadata": {
  "name": "",
  "signature": "sha256:e40713ad4276524fd25b8f9f8de49f9e696e37c36ed3f4b1914604c0d0009bdc"
 },
 "nbformat": 3,
 "nbformat_minor": 0,
 "worksheets": [
  {
   "cells": [
    {
     "cell_type": "code",
     "collapsed": false,
     "input": [
      "from pyspark.sql import S"
     ],
     "language": "python",
     "metadata": {},
     "outputs": []
    },
    {
     "cell_type": "code",
     "collapsed": false,
     "input": [
      "import shlex\n",
      "\n",
      "from pyspark import SparkContext\n",
      "from pyspark.sql import SQLContext, Row\n",
      "sqlContext = SQLContext(sc)\n",
      "log_file = sc.textFile(\"/home/anant/projects/spark-examples/data/log_file.txt\")"
     ],
     "language": "python",
     "metadata": {},
     "outputs": [],
     "prompt_number": 5
    },
    {
     "cell_type": "code",
     "collapsed": false,
     "input": [
      "log_file.takeSample(True, 5)"
     ],
     "language": "python",
     "metadata": {},
     "outputs": [
      {
       "metadata": {},
       "output_type": "pyout",
       "prompt_number": 6,
       "text": [
        "[u'bettong.client.uq.oz.au [30:01:36:13] \"GET /logos/us-flag.gif HTTP/1.0\" 200 2788',\n",
        " u'hmu4.cs.auckland.ac.nz [30:00:21:52] \"GET /logos/us-flag.gif HTTP/1.0\" 200 2788',\n",
        " u'port11.annex1.naples.net [30:00:05:59] \"GET /enviro/gif/cerclis.gif HTTP/1.0\" 200 1063',\n",
        " u'wpbfl2-45.gate.net [29:23:54:37] \"GET /docs/browner/adminbio.html HTTP/1.0\" 200 4217',\n",
        " u'168.95.125.161 [30:02:35:11] \"GET /enviro/gif/mail.gif HTTP/1.0\" 200 959']"
       ]
      }
     ],
     "prompt_number": 6
    },
    {
     "cell_type": "code",
     "collapsed": false,
     "input": [
      "splits = log_file.map(lambda row: shlex.split(row))\n",
      "splits.cache()\n",
      "splits.takeSample(True, 5)"
     ],
     "language": "python",
     "metadata": {},
     "outputs": [
      {
       "metadata": {},
       "output_type": "pyout",
       "prompt_number": 8,
       "text": [
        "[['port11.annex1.naples.net',\n",
        "  '[30:00:07:25]',\n",
        "  'GET /enviro/gif/efacts.gif HTTP/1.0',\n",
        "  '200',\n",
        "  '1367'],\n",
        " ['h46.s101.wcc.com', '[30:02:01:37]', 'GET / HTTP/1.0', '200', '4889'],\n",
        " ['scenic.mix.it',\n",
        "  '[30:04:30:00]',\n",
        "  'GET /icons/large_epa.gif HTTP/1.0',\n",
        "  '200',\n",
        "  '647'],\n",
        " ['bettong.client.uq.oz.au',\n",
        "  '[30:02:24:54]',\n",
        "  'GET /docs/CSO.html HTTP/1.0',\n",
        "  '200',\n",
        "  '3120'],\n",
        " ['pm2-3.niia.net',\n",
        "  '[30:00:35:00]',\n",
        "  'GET /enviro/gif/query.gif HTTP/1.0',\n",
        "  '200',\n",
        "  '1006']]"
       ]
      }
     ],
     "prompt_number": 8
    },
    {
     "cell_type": "code",
     "collapsed": false,
     "input": [
      "def create_schema(row):\n",
      "  ip = row[0]\n",
      "  date = row[1].replace('[', '').replace(']', '')\n",
      "  tokens = row[2].split(' ')\n",
      "  protocol = tokens[0]\n",
      "  url = tokens[1].split('?')[0]\n",
      "  status = row[3]\n",
      "  time = None if row[4] == '-' else int(row[4]) \n",
      "  return Row(ip=ip, date=date, protocol=protocol, url=url, status=status, time=time)\n",
      "schema_dicts = splits.map(create_schema)\n",
      "schema_dicts.takeSample(True, 5)"
     ],
     "language": "python",
     "metadata": {},
     "outputs": [
      {
       "metadata": {},
       "output_type": "pyout",
       "prompt_number": 9,
       "text": [
        "[Row(date='30:04:31:30', ip='ix-stp-fl1-20.ix.netcom.com', protocol='GET', status='200', time=1085, url='/EPA-WASTE/1995/'),\n",
        " Row(date='30:04:03:52', ip='192.146.118.133', protocol='GET', status='200', time=1325, url='/Consumer.html'),\n",
        " Row(date='30:00:31:11', ip='149.159.22.10', protocol='GET', status='200', time=2788, url='/logos/us-flag.gif'),\n",
        " Row(date='30:00:55:36', ip='204.188.47.212', protocol='GET', status='302', time=None, url='/docs/NEGP'),\n",
        " Row(date='30:00:33:54', ip='pm2-3.niia.net', protocol='GET', status='200', time=1805, url='/ERNS/')]"
       ]
      }
     ],
     "prompt_number": 9
    },
    {
     "cell_type": "code",
     "collapsed": false,
     "input": [
      "log_schema = sqlContext.inferSchema(schema_dicts)\n",
      "log_schema.printSchema()\n",
      "log_schema.registerAsTable('logs')"
     ],
     "language": "python",
     "metadata": {},
     "outputs": [
      {
       "output_type": "stream",
       "stream": "stdout",
       "text": [
        "root\n",
        " |-- date: string (nullable = true)\n",
        " |-- ip: string (nullable = true)\n",
        " |-- protocol: string (nullable = true)\n",
        " |-- status: string (nullable = true)\n",
        " |-- time: long (nullable = true)\n",
        " |-- url: string (nullable = true)\n",
        "\n"
       ]
      }
     ],
     "prompt_number": 11
    },
    {
     "cell_type": "code",
     "collapsed": false,
     "input": [
      "sample = sqlContext.sql('SELECT * FROM logs LIMIT 10').collect()\n",
      "for row in sample:\n",
      "    print row"
     ],
     "language": "python",
     "metadata": {},
     "outputs": [
      {
       "output_type": "stream",
       "stream": "stdout",
       "text": [
        "Row(date=u'29:23:53:25', ip=u'141.243.1.172', protocol=u'GET', status=u'200', time=1497, url=u'/Software.html')\n",
        "Row(date=u'29:23:53:36', ip=u'query2.lycos.cs.cmu.edu', protocol=u'GET', status=u'200', time=1325, url=u'/Consumer.html')\n",
        "Row(date=u'29:23:53:53', ip=u'tanuki.twics.com', protocol=u'GET', status=u'200', time=1014, url=u'/News.html')\n",
        "Row(date=u'29:23:54:15', ip=u'wpbfl2-45.gate.net', protocol=u'GET', status=u'200', time=4889, url=u'/')\n",
        "Row(date=u'29:23:54:16', ip=u'wpbfl2-45.gate.net', protocol=u'GET', status=u'200', time=2624, url=u'/icons/circle_logo_small.gif')\n",
        "Row(date=u'29:23:54:18', ip=u'wpbfl2-45.gate.net', protocol=u'GET', status=u'200', time=935, url=u'/logos/small_gopher.gif')\n",
        "Row(date=u'29:23:54:19', ip=u'140.112.68.165', protocol=u'GET', status=u'200', time=2788, url=u'/logos/us-flag.gif')\n",
        "Row(date=u'29:23:54:19', ip=u'wpbfl2-45.gate.net', protocol=u'GET', status=u'200', time=124, url=u'/logos/small_ftp.gif')\n",
        "Row(date=u'29:23:54:19', ip=u'wpbfl2-45.gate.net', protocol=u'GET', status=u'200', time=156, url=u'/icons/book.gif')\n",
        "Row(date=u'29:23:54:19', ip=u'wpbfl2-45.gate.net', protocol=u'GET', status=u'200', time=2788, url=u'/logos/us-flag.gif')\n"
       ]
      }
     ],
     "prompt_number": 12
    },
    {
     "cell_type": "code",
     "collapsed": false,
     "input": [
      "# find 10 most popular url's\n",
      "url_access = sqlContext.sql('''SELECT url, count(*) as counts FROM logs GROUP BY url\n",
      "  ORDER BY counts DESC LIMIT 10''').collect()\n",
      "for row in url_access:\n",
      "    print row"
     ],
     "language": "python",
     "metadata": {},
     "outputs": [
      {
       "output_type": "stream",
       "stream": "stdout",
       "text": [
        "Row(url=u'/icons/circle_logo_small.gif', counts=128)\n",
        "Row(url=u'/', counts=103)\n",
        "Row(url=u'/logos/us-flag.gif', counts=74)\n",
        "Row(url=u'/logos/small_ftp.gif', counts=74)\n",
        "Row(url=u'/logos/small_gopher.gif', counts=71)\n",
        "Row(url=u'/icons/book.gif', counts=71)\n",
        "Row(url=u'/icons/ok2-0.gif', counts=69)\n",
        "Row(url=u'/waisicons/unknown.gif', counts=62)\n",
        "Row(url=u'/cgi-bin/waisgate', counts=43)\n",
        "Row(url=u'/cgi-bin/waisgate/134.67.99.11=earth1=210=/usr1/comwais/indexes/HTDOCS=gopher%40earth1=0.00=:free', counts=26)\n"
       ]
      }
     ],
     "prompt_number": 13
    },
    {
     "cell_type": "code",
     "collapsed": false,
     "input": [
      "# 10 highest traffic sources\n",
      "ip_access = sqlContext.sql(\"SELECT ip, count(*) as counts FROM logs GROUP BY ip ORDER BY counts DESC LIMIT 10\").collect()\n",
      "for row in ip_access:\n",
      "    print row"
     ],
     "language": "python",
     "metadata": {},
     "outputs": [
      {
       "output_type": "stream",
       "stream": "stdout",
       "text": [
        "Row(ip=u'ix-eve-wa2-02.ix.netcom.com', counts=126)\n",
        "Row(ip=u'pm2-3.niia.net', counts=81)\n",
        "Row(ip=u'202.32.50.6', counts=73)\n",
        "Row(ip=u'bettong.client.uq.oz.au', counts=64)\n",
        "Row(ip=u'macn352.riken.go.jp', counts=50)\n",
        "Row(ip=u'sfsp03.slip.net', counts=47)\n",
        "Row(ip=u'h46.s101.wcc.com', counts=46)\n",
        "Row(ip=u'cragateway.cra.com.au', counts=44)\n",
        "Row(ip=u'port11.annex1.naples.net', counts=43)\n",
        "Row(ip=u'168.95.125.161', counts=39)\n"
       ]
      }
     ],
     "prompt_number": 14
    },
    {
     "cell_type": "code",
     "collapsed": false,
     "input": [
      "# same operation without sparkSQL\n",
      "ip_access_direct = schema_dicts.map(lambda row: (row.ip, 1)).reduceByKey(lambda a,b: a+b).map(\n",
      " lambda r: (r[1], r[0])).sortByKey(ascending=False).map(lambda r: (r[1], r[0])).collect()\n",
      "for row in ip_access[:10]:\n",
      "    print row"
     ],
     "language": "python",
     "metadata": {},
     "outputs": [
      {
       "output_type": "stream",
       "stream": "stdout",
       "text": [
        "Row(ip=u'ix-eve-wa2-02.ix.netcom.com', counts=126)\n",
        "Row(ip=u'pm2-3.niia.net', counts=81)\n",
        "Row(ip=u'202.32.50.6', counts=73)\n",
        "Row(ip=u'bettong.client.uq.oz.au', counts=64)\n",
        "Row(ip=u'macn352.riken.go.jp', counts=50)\n",
        "Row(ip=u'sfsp03.slip.net', counts=47)\n",
        "Row(ip=u'h46.s101.wcc.com', counts=46)\n",
        "Row(ip=u'cragateway.cra.com.au', counts=44)\n",
        "Row(ip=u'port11.annex1.naples.net', counts=43)\n",
        "Row(ip=u'168.95.125.161', counts=39)\n"
       ]
      }
     ],
     "prompt_number": 16
    },
    {
     "cell_type": "code",
     "collapsed": false,
     "input": [
      "step1 = schema_dicts.map(lambda row: (row.ip, 1))\n",
      "step1.take(5)"
     ],
     "language": "python",
     "metadata": {},
     "outputs": [
      {
       "metadata": {},
       "output_type": "pyout",
       "prompt_number": 17,
       "text": [
        "[('141.243.1.172', 1),\n",
        " ('query2.lycos.cs.cmu.edu', 1),\n",
        " ('tanuki.twics.com', 1),\n",
        " ('wpbfl2-45.gate.net', 1),\n",
        " ('wpbfl2-45.gate.net', 1)]"
       ]
      }
     ],
     "prompt_number": 17
    },
    {
     "cell_type": "code",
     "collapsed": false,
     "input": [
      "step2 = step1.reduceByKey(lambda a,b: a+b)\n",
      "step2.take(5)"
     ],
     "language": "python",
     "metadata": {},
     "outputs": [
      {
       "metadata": {},
       "output_type": "pyout",
       "prompt_number": 18,
       "text": [
        "[('query2.lycos.cs.cmu.edu', 1),\n",
        " ('131.203.13.244', 1),\n",
        " ('playful.mnsinc.com', 6),\n",
        " ('ix-mil1-06.ix.netcom.com', 7),\n",
        " ('bettong.client.uq.oz.au', 64)]"
       ]
      }
     ],
     "prompt_number": 18
    },
    {
     "cell_type": "code",
     "collapsed": false,
     "input": [
      "step3 = step2.map(lambda r: (r[1], r[0]))\n",
      "step3.take(5)"
     ],
     "language": "python",
     "metadata": {},
     "outputs": [
      {
       "metadata": {},
       "output_type": "pyout",
       "prompt_number": 19,
       "text": [
        "[(1, 'query2.lycos.cs.cmu.edu'),\n",
        " (1, '131.203.13.244'),\n",
        " (6, 'playful.mnsinc.com'),\n",
        " (7, 'ix-mil1-06.ix.netcom.com'),\n",
        " (64, 'bettong.client.uq.oz.au')]"
       ]
      }
     ],
     "prompt_number": 19
    },
    {
     "cell_type": "code",
     "collapsed": false,
     "input": [
      "step4 = step3.sortByKey(ascending=False)\n",
      "step4.take(5)"
     ],
     "language": "python",
     "metadata": {},
     "outputs": [
      {
       "metadata": {},
       "output_type": "pyout",
       "prompt_number": 20,
       "text": [
        "[(126, 'ix-eve-wa2-02.ix.netcom.com'),\n",
        " (81, 'pm2-3.niia.net'),\n",
        " (73, '202.32.50.6'),\n",
        " (64, 'bettong.client.uq.oz.au'),\n",
        " (50, 'macn352.riken.go.jp')]"
       ]
      }
     ],
     "prompt_number": 20
    },
    {
     "cell_type": "code",
     "collapsed": false,
     "input": [
      "step5 = step4.map(lambda r: (r[1], r[0]))\n",
      "step5.take(10)"
     ],
     "language": "python",
     "metadata": {},
     "outputs": [
      {
       "metadata": {},
       "output_type": "pyout",
       "prompt_number": 21,
       "text": [
        "[('ix-eve-wa2-02.ix.netcom.com', 126),\n",
        " ('pm2-3.niia.net', 81),\n",
        " ('202.32.50.6', 73),\n",
        " ('bettong.client.uq.oz.au', 64),\n",
        " ('macn352.riken.go.jp', 50),\n",
        " ('sfsp03.slip.net', 47),\n",
        " ('h46.s101.wcc.com', 46),\n",
        " ('cragateway.cra.com.au', 44),\n",
        " ('port11.annex1.naples.net', 43),\n",
        " ('168.95.125.161', 39)]"
       ]
      }
     ],
     "prompt_number": 21
    },
    {
     "cell_type": "code",
     "collapsed": false,
     "input": [
      "pq_path = '/home/anant/projects/spark-examples/data/log.pq'\n",
      "log_schema.saveAsParquetFile(pq_path)"
     ],
     "language": "python",
     "metadata": {},
     "outputs": [],
     "prompt_number": 26
    },
    {
     "cell_type": "code",
     "collapsed": false,
     "input": [
      "parquetFile = sqlContext.parquetFile(pq_path)\n",
      "parquetFile.registerTempTable('parquetTable')"
     ],
     "language": "python",
     "metadata": {},
     "outputs": [],
     "prompt_number": 29
    },
    {
     "cell_type": "code",
     "collapsed": false,
     "input": [
      "ip_access = sqlContext.sql(\"SELECT ip, count(*) as counts FROM parquetTable GROUP BY ip ORDER BY counts DESC LIMIT 10\").collect()\n",
      "for row in ip_access:\n",
      "    print row"
     ],
     "language": "python",
     "metadata": {},
     "outputs": [
      {
       "output_type": "stream",
       "stream": "stdout",
       "text": [
        "Row(ip=u'ix-eve-wa2-02.ix.netcom.com', counts=126)\n",
        "Row(ip=u'pm2-3.niia.net', counts=81)\n",
        "Row(ip=u'202.32.50.6', counts=73)\n",
        "Row(ip=u'bettong.client.uq.oz.au', counts=64)\n",
        "Row(ip=u'macn352.riken.go.jp', counts=50)\n",
        "Row(ip=u'sfsp03.slip.net', counts=47)\n",
        "Row(ip=u'h46.s101.wcc.com', counts=46)\n",
        "Row(ip=u'cragateway.cra.com.au', counts=44)\n",
        "Row(ip=u'port11.annex1.naples.net', counts=43)\n",
        "Row(ip=u'168.95.125.161', counts=39)\n"
       ]
      }
     ],
     "prompt_number": 30
    },
    {
     "cell_type": "code",
     "collapsed": false,
     "input": [],
     "language": "python",
     "metadata": {},
     "outputs": []
    }
   ],
   "metadata": {}
  }
 ]
}