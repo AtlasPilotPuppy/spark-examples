{
 "cells": [
  {
   "cell_type": "code",
   "execution_count": 2,
   "metadata": {
    "collapsed": false
   },
   "outputs": [
    {
     "name": "stdout",
     "output_type": "stream",
     "text": [
      "words with map : [['hello', 'world'], ['hi']]\n",
      "words with flat map: ['hello', 'world', 'hi']\n"
     ]
    }
   ],
   "source": [
    "lines = sc.parallelize([\"hello world\", \"hi\"])\n",
    "\n",
    "words_map = lines.map(lambda line: line.split(\" \")).coalesce(1)\n",
    "words_flat_map = lines.flatMap(lambda line: line.split(\" \")).coalesce(1)\n",
    "print \"words with map : {}\".format(words_map.collect())\n",
    "print \"words with flat map: {}\".format(words_flat_map.collect())"
   ]
  }
 ],
 "metadata": {
  "kernelspec": {
   "display_name": "Python 2",
   "language": "python",
   "name": "python2"
  },
  "language_info": {
   "codemirror_mode": {
    "name": "ipython",
    "version": 2
   },
   "file_extension": ".py",
   "mimetype": "text/x-python",
   "name": "python",
   "nbconvert_exporter": "python",
   "pygments_lexer": "ipython2",
   "version": "2.7.6"
  }
 },
 "nbformat": 4,
 "nbformat_minor": 0
}
