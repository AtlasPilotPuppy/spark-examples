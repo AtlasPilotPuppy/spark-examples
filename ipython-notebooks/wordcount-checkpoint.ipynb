{
 "metadata": {
  "name": "",
  "signature": "sha256:d91a7094c398bbcba3b0c0df3358c9e5ab33e40e01b100b814ea635c6244a16f"
 },
 "nbformat": 3,
 "nbformat_minor": 0,
 "worksheets": [
  {
   "cells": [
    {
     "cell_type": "code",
     "collapsed": false,
     "input": [
      "corpus = sc.textFile(\"/home/anant/projects/spark-examples/data/pg1342.txt\")\n",
      "corpus.cache()\n",
      "corpus.takeSample(True, 5)"
     ],
     "language": "python",
     "metadata": {},
     "outputs": [
      {
       "metadata": {},
       "output_type": "pyout",
       "prompt_number": 2,
       "text": [
        "[u'\"I hope not.\"',\n",
        " u'\"Very true; and if I had my will, we should. But my dear Lydia, I don\\'t',\n",
        " u'dislike which not all his fortune and consequence might do away.',\n",
        " u'resentment of his family, or the indignation of the world, if the former',\n",
        " u'\"Oh! I am not afraid of her dying. People do not die of little trifling']"
       ]
      }
     ],
     "prompt_number": 2
    },
    {
     "cell_type": "code",
     "collapsed": false,
     "input": [
      "word_split = corpus.flatMap(lambda line: line.split(\" \")).filter(lambda element: len(element) > 0)\n",
      "word_split.takeSample(True, 5)"
     ],
     "language": "python",
     "metadata": {},
     "outputs": [
      {
       "metadata": {},
       "output_type": "pyout",
       "prompt_number": 3,
       "text": [
        "[u'my', u'it', u'need', u'most', u'friends;']"
       ]
      }
     ],
     "prompt_number": 3
    },
    {
     "cell_type": "code",
     "collapsed": false,
     "input": [
      "mapped = word_split.map(lambda word: (word.lower(), 1))\n",
      "mapped.takeSample(True, 5)"
     ],
     "language": "python",
     "metadata": {},
     "outputs": [
      {
       "metadata": {},
       "output_type": "pyout",
       "prompt_number": 8,
       "text": [
        "[(u'perplexity', 1),\n",
        " (u'which', 1),\n",
        " (u'of', 1),\n",
        " (u'even', 1),\n",
        " (u'unwearying', 1)]"
       ]
      }
     ],
     "prompt_number": 8
    },
    {
     "cell_type": "code",
     "collapsed": false,
     "input": [
      "reduced = mapped.reduceByKey(lambda a, b: a+b)\n",
      "reduced.takeSample(True, 5)"
     ],
     "language": "python",
     "metadata": {},
     "outputs": [
      {
       "metadata": {},
       "output_type": "pyout",
       "prompt_number": 9,
       "text": [
        "[(u'nice?', 1),\n",
        " (u'songs,', 1),\n",
        " (u'serenity', 2),\n",
        " (u'darting', 1),\n",
        " (u'health.', 1)]"
       ]
      }
     ],
     "prompt_number": 9
    },
    {
     "cell_type": "code",
     "collapsed": false,
     "input": [
      "swapped = reduced.map(lambda row: (row[1], row[0])).sortByKey(ascending=False)\n",
      "swapped.take(10)"
     ],
     "language": "python",
     "metadata": {},
     "outputs": [
      {
       "metadata": {},
       "output_type": "pyout",
       "prompt_number": 10,
       "text": [
        "[(4479, u'the'),\n",
        " (4169, u'to'),\n",
        " (3680, u'of'),\n",
        " (3398, u'and'),\n",
        " (1982, u'a'),\n",
        " (1941, u'her'),\n",
        " (1890, u'in'),\n",
        " (1798, u'was'),\n",
        " (1740, u'i'),\n",
        " (1611, u'she')]"
       ]
      }
     ],
     "prompt_number": 10
    },
    {
     "cell_type": "code",
     "collapsed": false,
     "input": [
      "unswapped = swapped.map(lambda row: (row[1], row[0]))\n",
      "unswapped.take(10)"
     ],
     "language": "python",
     "metadata": {},
     "outputs": [
      {
       "metadata": {},
       "output_type": "pyout",
       "prompt_number": 11,
       "text": [
        "[(u'the', 4479),\n",
        " (u'to', 4169),\n",
        " (u'of', 3680),\n",
        " (u'and', 3398),\n",
        " (u'a', 1982),\n",
        " (u'her', 1941),\n",
        " (u'in', 1890),\n",
        " (u'was', 1798),\n",
        " (u'i', 1740),\n",
        " (u'she', 1611)]"
       ]
      }
     ],
     "prompt_number": 11
    },
    {
     "cell_type": "code",
     "collapsed": false,
     "input": [
      "#concise implementation\n",
      "from operator import add\n",
      "swap = lambda row: (row[1], row[0])\n",
      "words = sc.textFile(\"/home/anant/projects/spark-examples/data/pg1342.txt\").flatMap(lambda line: line.split(\" \"))\n",
      "words.cache()\n",
      "counts = words.filter(lambda element: len(element) > 0).map(\n",
      "  lambda word: (word, 1)).reduceByKey(add).map(swap).sortByKey(ascending=False).map(swap).collect()                  "
     ],
     "language": "python",
     "metadata": {},
     "outputs": [],
     "prompt_number": 14
    },
    {
     "cell_type": "code",
     "collapsed": false,
     "input": [
      "counts[:10]"
     ],
     "language": "python",
     "metadata": {},
     "outputs": [
      {
       "metadata": {},
       "output_type": "pyout",
       "prompt_number": 15,
       "text": [
        "[(u'the', 4205),\n",
        " (u'to', 4121),\n",
        " (u'of', 3662),\n",
        " (u'and', 3309),\n",
        " (u'a', 1945),\n",
        " (u'her', 1858),\n",
        " (u'in', 1813),\n",
        " (u'was', 1796),\n",
        " (u'I', 1740),\n",
        " (u'that', 1419)]"
       ]
      }
     ],
     "prompt_number": 15
    },
    {
     "cell_type": "code",
     "collapsed": false,
     "input": [],
     "language": "python",
     "metadata": {},
     "outputs": []
    }
   ],
   "metadata": {}
  }
 ]
}