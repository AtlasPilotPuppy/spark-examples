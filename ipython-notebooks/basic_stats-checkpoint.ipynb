{
 "metadata": {
  "name": "",
  "signature": "sha256:4be2aab00ff554914d7aa1bcafe92f11999978ba90275d314e5b5d090eb2b517"
 },
 "nbformat": 3,
 "nbformat_minor": 0,
 "worksheets": [
  {
   "cells": [
    {
     "cell_type": "code",
     "collapsed": false,
     "input": [
      "from pyspark.mllib.linalg import Vectors\n",
      "from pyspark.mllib import stat"
     ],
     "language": "python",
     "metadata": {},
     "outputs": [],
     "prompt_number": 1
    },
    {
     "cell_type": "code",
     "collapsed": false,
     "input": [
      "numbers = sc.textFile(\"/home/anant/projects/spark-examples/data/random_points.csv\")\n",
      "num_vectors = numbers.map(lambda row: row.split(\",\")).map(lambda row: map(float, row))\\\n",
      "  .map(lambda row:Vectors.dense(row))\n",
      "num_vectors.take(2)"
     ],
     "language": "python",
     "metadata": {},
     "outputs": [
      {
       "metadata": {},
       "output_type": "pyout",
       "prompt_number": 2,
       "text": [
        "[DenseVector([67.3736, 173.5864]), DenseVector([80.7324, 83.4922])]"
       ]
      }
     ],
     "prompt_number": 2
    },
    {
     "cell_type": "code",
     "collapsed": false,
     "input": [
      "stats = stat.Statistics.colStats(num_vectors)\n",
      "print \"Mean: {}\".format(stats.mean())\n",
      "print \"Variance: {}\".format(stats.variance())"
     ],
     "language": "python",
     "metadata": {},
     "outputs": [
      {
       "output_type": "stream",
       "stream": "stdout",
       "text": [
        "Mean: [ 103.34258003   98.03848728]\n",
        "Variance: [ 3276.02491363  3323.28180672]\n"
       ]
      }
     ],
     "prompt_number": 3
    },
    {
     "cell_type": "code",
     "collapsed": false,
     "input": [
      "stats.min()"
     ],
     "language": "python",
     "metadata": {},
     "outputs": [
      {
       "metadata": {},
       "output_type": "pyout",
       "prompt_number": 4,
       "text": [
        "array([ 0.10170301,  0.6833904 ])"
       ]
      }
     ],
     "prompt_number": 4
    },
    {
     "cell_type": "code",
     "collapsed": false,
     "input": [
      "stats.count()"
     ],
     "language": "python",
     "metadata": {},
     "outputs": [
      {
       "metadata": {},
       "output_type": "pyout",
       "prompt_number": 10,
       "text": [
        "1000L"
       ]
      }
     ],
     "prompt_number": 10
    },
    {
     "cell_type": "code",
     "collapsed": false,
     "input": [],
     "language": "python",
     "metadata": {},
     "outputs": []
    }
   ],
   "metadata": {}
  }
 ]
}