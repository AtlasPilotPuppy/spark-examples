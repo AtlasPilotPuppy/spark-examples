{
 "metadata": {
  "name": ""
 },
 "nbformat": 3,
 "nbformat_minor": 0,
 "worksheets": [
  {
   "cells": [
    {
     "cell_type": "code",
     "collapsed": false,
     "input": [
      "import itertools\n",
      "from math import sqrt\n",
      "from operator import add\n",
      "from os.path import join, isfile, dirname\n",
      "\n",
      "from pyspark.mllib.recommendation import ALS"
     ],
     "language": "python",
     "metadata": {},
     "outputs": [],
     "prompt_number": 1
    },
    {
     "cell_type": "code",
     "collapsed": false,
     "input": [
      "def parseRating(line):\n",
      "    \"\"\"\n",
      "    Parses a rating record in MovieLens format userId::movieId::rating::timestamp .\n",
      "    \"\"\"\n",
      "    fields = line.strip().split(\"::\")\n",
      "    return long(fields[3]) % 10, (int(fields[0]), int(fields[1]), float(fields[2]))"
     ],
     "language": "python",
     "metadata": {},
     "outputs": [],
     "prompt_number": 2
    },
    {
     "cell_type": "code",
     "collapsed": false,
     "input": [
      "def parseMovie(line):\n",
      "    \"\"\"\n",
      "    Parses a movie record in MovieLens format movieId::movieTitle .\n",
      "    \"\"\"\n",
      "    fields = line.strip().split(\"::\")\n",
      "    return int(fields[0]), fields[1]"
     ],
     "language": "python",
     "metadata": {},
     "outputs": [],
     "prompt_number": 3
    },
    {
     "cell_type": "code",
     "collapsed": false,
     "input": [
      "def loadRatings(ratingsFile):\n",
      "    \"\"\"\n",
      "    Load ratings from file.\n",
      "    \"\"\"\n",
      "    if not isfile(ratingsFile):\n",
      "        print \"File %s does not exist.\" % ratingsFile\n",
      "        sys.exit(1)\n",
      "    f = open(ratingsFile, 'r')\n",
      "    ratings = filter(lambda r: r[2] > 0, [parseRating(line)[1] for line in f])\n",
      "    f.close()\n",
      "    if not ratings:\n",
      "        print \"No ratings provided.\"\n",
      "        sys.exit(1)\n",
      "    else:\n",
      "        return ratings"
     ],
     "language": "python",
     "metadata": {},
     "outputs": [],
     "prompt_number": 4
    },
    {
     "cell_type": "code",
     "collapsed": false,
     "input": [
      "def computeRmse(model, data, n):\n",
      "    \"\"\"\n",
      "    Compute RMSE (Root Mean Squared Error).\n",
      "    \"\"\"\n",
      "    predictions = model.predictAll(data.map(lambda x: (x[0], x[1])))\n",
      "    predictionsAndRatings = predictions.map(lambda x: ((x[0], x[1]), x[2])) \\\n",
      "      .join(data.map(lambda x: ((x[0], x[1]), x[2]))) \\\n",
      "      .values()\n",
      "    return sqrt(predictionsAndRatings.map(lambda x: (x[0] - x[1]) ** 2).reduce(add) / float(n))"
     ],
     "language": "python",
     "metadata": {},
     "outputs": [],
     "prompt_number": 5
    },
    {
     "cell_type": "code",
     "collapsed": false,
     "input": [
      "# load personal ratings\n",
      "user_ratings_file = \"/home/anant/projects/spark-examples/personalRatings.txt\"\n",
      "myRatings = loadRatings(user_ratings_file)\n",
      "myRatingsRDD = sc.parallelize(myRatings)"
     ],
     "language": "python",
     "metadata": {},
     "outputs": [],
     "prompt_number": 6
    },
    {
     "cell_type": "code",
     "collapsed": false,
     "input": [
      "# load ratings and movie titles\n",
      "# ratings is an RDD of (last digit of timestamp, (userId, movieId, rating))\n",
      "ratings_file = \"/home/anant/projects/spark-examples/data/movielens/ratings.dat\"\n",
      "ratings = sc.textFile(ratings_file).map(parseRating)"
     ],
     "language": "python",
     "metadata": {},
     "outputs": [],
     "prompt_number": 7
    },
    {
     "cell_type": "code",
     "collapsed": false,
     "input": [
      "# movies is an RDD of (movieId, movieTitle)\n",
      "movies_file = \"/home/anant/projects/spark-examples/data/movielens/movies.dat\"\n",
      "movies = dict(sc.textFile(movies_file).map(parseMovie).collect())"
     ],
     "language": "python",
     "metadata": {},
     "outputs": [],
     "prompt_number": 8
    },
    {
     "cell_type": "code",
     "collapsed": false,
     "input": [
      "numRatings = ratings.count()\n",
      "numUsers = ratings.values().map(lambda r: r[0]).distinct().count()\n",
      "numMovies = ratings.values().map(lambda r: r[1]).distinct().count()\n",
      "print \"Number of ratings: {}\\nNumber of users: {}\\nNumber of movies: {}\".format(numRatings, numUsers, numMovies)"
     ],
     "language": "python",
     "metadata": {},
     "outputs": [
      {
       "output_type": "stream",
       "stream": "stdout",
       "text": [
        "Number of ratings: 1000209\n",
        "Number of users: 6040\n",
        "Number of movies: 3706\n"
       ]
      }
     ],
     "prompt_number": 9
    },
    {
     "cell_type": "code",
     "collapsed": false,
     "input": [
      "numPartitions = 6\n",
      "training = ratings.filter(lambda x: x[0] < 6)\\\n",
      "  .values().union(myRatingsRDD).repartition(numPartitions).cache()\n",
      "training.take(5)"
     ],
     "language": "python",
     "metadata": {},
     "outputs": [
      {
       "metadata": {},
       "output_type": "pyout",
       "prompt_number": 10,
       "text": [
        "[(58, 1882, 3.0),\n",
        " (58, 1883, 3.0),\n",
        " (58, 21, 4.0),\n",
        " (58, 3700, 3.0),\n",
        " (58, 3704, 3.0)]"
       ]
      }
     ],
     "prompt_number": 10
    },
    {
     "cell_type": "code",
     "collapsed": false,
     "input": [
      "validation = ratings.filter(lambda x: x[0] >= 6 and x[0] < 8)\\\n",
      "  .values().repartition(numPartitions).cache()\n",
      "validation.take(5)"
     ],
     "language": "python",
     "metadata": {},
     "outputs": [
      {
       "metadata": {},
       "output_type": "pyout",
       "prompt_number": 11,
       "text": [
        "[(181, 3286, 2.0),\n",
        " (181, 2701, 1.0),\n",
        " (181, 1690, 4.0),\n",
        " (181, 2716, 5.0),\n",
        " (181, 3527, 4.0)]"
       ]
      }
     ],
     "prompt_number": 11
    },
    {
     "cell_type": "code",
     "collapsed": false,
     "input": [
      "test = ratings.filter(lambda x: x[0] >= 8).values().cache()"
     ],
     "language": "python",
     "metadata": {},
     "outputs": [],
     "prompt_number": 12
    },
    {
     "cell_type": "code",
     "collapsed": false,
     "input": [
      "numTraining = training.count()\n",
      "numValidation = validation.count()\n",
      "numTest = test.count()\n",
      "print \"Training: {}, validation: {}, test: {}\".format(numTraining, numValidation, numTest)"
     ],
     "language": "python",
     "metadata": {},
     "outputs": [
      {
       "output_type": "stream",
       "stream": "stdout",
       "text": [
        "Training: 602252, validation: 198919, test: 199049\n"
       ]
      }
     ],
     "prompt_number": 13
    },
    {
     "cell_type": "code",
     "collapsed": false,
     "input": [
      "# train models and evaluate them on the validation set\n",
      "\n",
      "# ranks = [8, 12]\n",
      "# lambdas = [0.1, 10.0]\n",
      "# numIters = [10, 20]\n",
      "ranks = [8]\n",
      "lambdas = [0.1]\n",
      "numIters = [10]\n",
      "\n",
      "bestModel = None\n",
      "bestValidationRmse = float(\"inf\")\n",
      "bestRank = 0\n",
      "bestLambda = -1.0\n",
      "bestNumIter = -1\n",
      "\n",
      "for rank, lmbda, numIter in itertools.product(ranks, lambdas, numIters):\n",
      "   model = ALS.train(training, rank, numIter, lmbda)\n",
      "   validationRmse = computeRmse(model, validation, numValidation)\n",
      "   print (\"RMSE (validation) = {} for the model trained with \".format(validationRmse),\n",
      "       \"rank = {}, lambda = {}, and numIter = {}.\".format(rank, lmbda, numIter))\n",
      "   if (validationRmse < bestValidationRmse):\n",
      "       bestModel = model\n",
      "       bestValidationRmse = validationRmse\n",
      "       bestRank = rank\n",
      "       bestLambda = lmbda\n",
      "       bestNumIter = numIter"
     ],
     "language": "python",
     "metadata": {},
     "outputs": [
      {
       "output_type": "stream",
       "stream": "stdout",
       "text": [
        "('RMSE (validation) = 0.868601461383 for the model trained with ', 'rank = 8, lambda = 0.1, and numIter = 10.')\n"
       ]
      }
     ],
     "prompt_number": 14
    },
    {
     "cell_type": "code",
     "collapsed": false,
     "input": [
      "\n",
      "testRmse = computeRmse(bestModel, test, numTest)\n",
      "# evaluate the best model on the test set\n",
      "print \"\"\"The best model was trained with rank = {} and lambda = {},\n",
      "    and numIter = {}, and its RMSE on the test set is {}.\"\"\".format(bestRank, bestLambda, bestNumIter, testRmse)"
     ],
     "language": "python",
     "metadata": {},
     "outputs": [
      {
       "output_type": "stream",
       "stream": "stdout",
       "text": [
        "The best model was trained with rank = 8 and lambda = 0.1,\n",
        "    and numIter = 10, and its RMSE on the test set is 0.867300747231.\n"
       ]
      }
     ],
     "prompt_number": 15
    },
    {
     "cell_type": "code",
     "collapsed": false,
     "input": [
      "meanRating = training.union(validation).map(lambda x: x[2]).mean()\n",
      "baselineRmse = sqrt(test.map(lambda x: (meanRating - x[2]) ** 2).reduce(add) / numTest)\n",
      "improvement = (baselineRmse - testRmse) / baselineRmse * 100\n",
      "print \"The best model improves the baseline by {} %\".format(improvement)"
     ],
     "language": "python",
     "metadata": {},
     "outputs": [
      {
       "output_type": "stream",
       "stream": "stdout",
       "text": [
        "The best model improves the baseline by 22.1113530622 %\n"
       ]
      }
     ],
     "prompt_number": 16
    },
    {
     "cell_type": "code",
     "collapsed": false,
     "input": [
      "myRatedMovieIds = set([x[1] for x in myRatings])\n",
      "candidates = sc.parallelize([m for m in movies if m not in myRatedMovieIds])\n",
      "predictions = bestModel.predictAll(candidates.map(lambda x: (0, x))).collect()\n",
      "recommendations = sorted(predictions, key=lambda x: x[2], reverse=True)[:50]\n",
      "print \"Movies recommended for you:\"\n",
      "for i in xrange(len(recommendations)):\n",
      "    print (\"%2d: %s\" % (i + 1, movies[recommendations[i][1]])).encode('ascii', 'ignore')"
     ],
     "language": "python",
     "metadata": {},
     "outputs": [
      {
       "output_type": "stream",
       "stream": "stdout",
       "text": [
        "Movies recommended for you:\n",
        " 1: Sanjuro (1962)\n",
        " 2: Shawshank Redemption, The (1994)\n",
        " 3: American History X (1998)\n",
        " 4: Godfather, The (1972)\n",
        " 5: Braveheart (1995)\n",
        " 6: Life Is Beautiful (La Vita  bella) (1997)\n",
        " 7: Usual Suspects, The (1995)\n",
        " 8: Raiders of the Lost Ark (1981)\n",
        " 9: Schindler's List (1993)\n",
        "10: Saving Private Ryan (1998)\n",
        "11: Bewegte Mann, Der (1994)\n",
        "12: Lamerica (1994)\n",
        "13: Rear Window (1954)\n",
        "14: GoodFellas (1990)\n",
        "15: Star Wars: Episode IV - A New Hope (1977)\n",
        "16: Wild Bunch, The (1969)\n",
        "17: Grateful Dead (1995)\n",
        "18: Silence of the Lambs, The (1991)\n",
        "19: Bridge on the River Kwai, The (1957)\n",
        "20: Reservoir Dogs (1992)\n",
        "21: 12 Angry Men (1957)\n",
        "22: Great Escape, The (1963)\n",
        "23: Star Wars: Episode V - The Empire Strikes Back (1980)\n",
        "24: Eighth Day, The (Le Huitime jour ) (1996)\n",
        "25: For All Mankind (1989)\n",
        "26: Spiral Staircase, The (1946)\n",
        "27: Godfather: Part II, The (1974)\n",
        "28: Close Shave, A (1995)\n",
        "29: Monty Python and the Holy Grail (1974)\n",
        "30: Matrix, The (1999)\n",
        "31: Patton (1970)\n",
        "32: Wrong Trousers, The (1993)\n",
        "33: Casablanca (1942)\n",
        "34: Pulp Fiction (1994)\n",
        "35: One Flew Over the Cuckoo's Nest (1975)\n",
        "36: Bandits (1997)\n",
        "37: American Dream (1990)\n",
        "38: Seven Samurai (The Magnificent Seven) (Shichinin no samurai) (1954)\n",
        "39: North by Northwest (1959)\n",
        "40: It's a Wonderful Life (1946)\n",
        "41: Unforgiven (1992)\n",
        "42: Sting, The (1973)\n",
        "43: Platoon (1986)\n",
        "44: Run Lola Run (Lola rennt) (1998)\n",
        "45: Treasure of the Sierra Madre, The (1948)\n",
        "46: Good Will Hunting (1997)\n",
        "47: Sixth Sense, The (1999)\n",
        "48: Mildred Pierce (1945)\n",
        "49: Good, The Bad and The Ugly, The (1966)\n",
        "50: Apocalypse Now (1979)\n"
       ]
      }
     ],
     "prompt_number": 17
    },
    {
     "cell_type": "code",
     "collapsed": false,
     "input": [],
     "language": "python",
     "metadata": {},
     "outputs": []
    }
   ],
   "metadata": {}
  }
 ]
}