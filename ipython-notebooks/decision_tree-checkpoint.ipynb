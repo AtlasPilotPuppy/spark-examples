{
 "metadata": {
  "name": ""
 },
 "nbformat": 3,
 "nbformat_minor": 0,
 "worksheets": [
  {
   "cells": [
    {
     "cell_type": "code",
     "collapsed": false,
     "input": [
      "from pyspark.mllib.regression import LabeledPoint\n",
      "from pyspark.mllib.tree import DecisionTree\n",
      "from pyspark.mllib.util import MLUtils"
     ],
     "language": "python",
     "metadata": {},
     "outputs": [],
     "prompt_number": 1
    },
    {
     "cell_type": "code",
     "collapsed": false,
     "input": [
      "data = MLUtils.loadLibSVMFile(sc, '/home/anant/projects/spark-examples/data/sample_libsvm_data.txt').cache()\n",
      "data.take(5)"
     ],
     "language": "python",
     "metadata": {},
     "outputs": [
      {
       "metadata": {},
       "output_type": "pyout",
       "prompt_number": 2,
       "text": [
        "[<pyspark.mllib.regression.LabeledPoint at 0x7f955e3f87d0>,\n",
        " <pyspark.mllib.regression.LabeledPoint at 0x7f955e3f8850>,\n",
        " <pyspark.mllib.regression.LabeledPoint at 0x7f955e3f88d0>,\n",
        " <pyspark.mllib.regression.LabeledPoint at 0x7f955e3f8950>,\n",
        " <pyspark.mllib.regression.LabeledPoint at 0x7f955e3f89d0>]"
       ]
      }
     ],
     "prompt_number": 2
    },
    {
     "cell_type": "code",
     "collapsed": false,
     "input": [
      "# Train a DecisionTree model.\n",
      "#  Empty categoricalFeaturesInfo indicates all features are continuous.\n",
      "model = DecisionTree.trainClassifier(data, numClasses=2, categoricalFeaturesInfo={},\n",
      "                                     impurity='gini', maxDepth=5, maxBins=100)"
     ],
     "language": "python",
     "metadata": {},
     "outputs": [],
     "prompt_number": 3
    },
    {
     "cell_type": "code",
     "collapsed": false,
     "input": [
      "predictions = model.predict(data.map(lambda x: x.features))\n",
      "labelsAndPredictions = data.map(lambda lp: lp.label).zip(predictions)\n",
      "labelsAndPredictions.take(10)"
     ],
     "language": "python",
     "metadata": {},
     "outputs": [
      {
       "metadata": {},
       "output_type": "pyout",
       "prompt_number": 8,
       "text": [
        "[(0.0, 0.0),\n",
        " (1.0, 1.0),\n",
        " (1.0, 1.0),\n",
        " (1.0, 1.0),\n",
        " (1.0, 1.0),\n",
        " (0.0, 0.0),\n",
        " (1.0, 1.0),\n",
        " (1.0, 1.0),\n",
        " (0.0, 0.0),\n",
        " (0.0, 0.0)]"
       ]
      }
     ],
     "prompt_number": 8
    },
    {
     "cell_type": "code",
     "collapsed": false,
     "input": [
      "trainErr = labelsAndPredictions.filter(lambda (v, p): v != p).count() / float(data.count())\n",
      "print('Training Error = ' + str(trainErr))\n",
      "print('Learned classification tree model:')\n",
      "print(model)"
     ],
     "language": "python",
     "metadata": {},
     "outputs": [
      {
       "output_type": "stream",
       "stream": "stdout",
       "text": [
        "Training Error = 0.0\n",
        "Learned classification tree model:\n",
        "DecisionTreeModel classifier\n",
        "  If (feature 434 <= 0.0)\n",
        "   If (feature 100 <= 193.5)\n",
        "    Predict: 0.0\n",
        "   Else (feature 100 > 193.5)\n",
        "    Predict: 1.0\n",
        "  Else (feature 434 > 0.0)\n",
        "   Predict: 1.0\n",
        "\n"
       ]
      }
     ],
     "prompt_number": 9
    },
    {
     "cell_type": "code",
     "collapsed": false,
     "input": [],
     "language": "python",
     "metadata": {},
     "outputs": []
    }
   ],
   "metadata": {}
  }
 ]
}