{
 "cells": [
  {
   "cell_type": "code",
   "execution_count": 2,
   "metadata": {
    "collapsed": false
   },
   "outputs": [],
   "source": [
    "array = range(1,1000)"
   ]
  },
  {
   "cell_type": "code",
   "execution_count": 3,
   "metadata": {
    "collapsed": true
   },
   "outputs": [],
   "source": [
    "p  =sc.parallelize(array)"
   ]
  },
  {
   "cell_type": "code",
   "execution_count": 4,
   "metadata": {
    "collapsed": true
   },
   "outputs": [],
   "source": [
    "q = p.map(lambda x: x*x)"
   ]
  },
  {
   "cell_type": "code",
   "execution_count": 5,
   "metadata": {
    "collapsed": false
   },
   "outputs": [
    {
     "data": {
      "text/plain": [
       "[1, 4, 9, 16, 25]"
      ]
     },
     "execution_count": 5,
     "metadata": {},
     "output_type": "execute_result"
    }
   ],
   "source": [
    "q.take(5)"
   ]
  },
  {
   "cell_type": "markdown",
   "metadata": {},
   "source": [
    "This file was uploaded to the server using Jupyter notebook and then added to HDFS using \n",
    "\n",
    "`hadoop fs -put Demographic_Statistics_By_Zip_Code.csv ../data/`\n",
    "\n",
    "from the command window in jupyter notebooks"
   ]
  },
  {
   "cell_type": "code",
   "execution_count": 48,
   "metadata": {
    "collapsed": false
   },
   "outputs": [
    {
     "data": {
      "text/plain": [
       "[u'JURISDICTION NAME,COUNT PARTICIPANTS,COUNT FEMALE,PERCENT FEMALE,COUNT MALE,PERCENT MALE,COUNT GENDER UNKNOWN,PERCENT GENDER UNKNOWN,COUNT GENDER TOTAL,PERCENT GENDER TOTAL,COUNT PACIFIC ISLANDER,PERCENT PACIFIC ISLANDER,COUNT HISPANIC LATINO,PERCENT HISPANIC LATINO,COUNT AMERICAN INDIAN,PERCENT AMERICAN INDIAN,COUNT ASIAN NON HISPANIC,PERCENT ASIAN NON HISPANIC,COUNT WHITE NON HISPANIC,PERCENT WHITE NON HISPANIC,COUNT BLACK NON HISPANIC,PERCENT BLACK NON HISPANIC,COUNT OTHER ETHNICITY,PERCENT OTHER ETHNICITY,COUNT ETHNICITY UNKNOWN,PERCENT ETHNICITY UNKNOWN,COUNT ETHNICITY TOTAL,PERCENT ETHNICITY TOTAL,COUNT PERMANENT RESIDENT ALIEN,PERCENT PERMANENT RESIDENT ALIEN,COUNT US CITIZEN,PERCENT US CITIZEN,COUNT OTHER CITIZEN STATUS,PERCENT OTHER CITIZEN STATUS,COUNT CITIZEN STATUS UNKNOWN,PERCENT CITIZEN STATUS UNKNOWN,COUNT CITIZEN STATUS TOTAL,PERCENT CITIZEN STATUS TOTAL,COUNT RECEIVES PUBLIC ASSISTANCE,PERCENT RECEIVES PUBLIC ASSISTANCE,COUNT NRECEIVES PUBLIC ASSISTANCE,PERCENT NRECEIVES PUBLIC ASSISTANCE,COUNT PUBLIC ASSISTANCE UNKNOWN,PERCENT PUBLIC ASSISTANCE UNKNOWN,COUNT PUBLIC ASSISTANCE TOTAL,PERCENT PUBLIC ASSISTANCE TOTAL',\n",
       " u'10001,44,22,0.5,22,0.5,0,0,44,100,0,0,16,0.36,0,0,3,0.07,1,0.02,21,0.48,3,0.07,0,0,44,100,2,0.05,42,0.95,0,0,0,0,44,100,20,0.45,24,0.55,0,0,44,100']"
      ]
     },
     "execution_count": 48,
     "metadata": {},
     "output_type": "execute_result"
    }
   ],
   "source": [
    "demo = sc.textFile('../data/Demographic_Statistics_By_Zip_Code.csv').cache()\n",
    "demo.take(2)"
   ]
  },
  {
   "cell_type": "code",
   "execution_count": 49,
   "metadata": {
    "collapsed": false
   },
   "outputs": [
    {
     "name": "stdout",
     "output_type": "stream",
     "text": [
      "[u'JURISDICTION NAME', u'COUNT PARTICIPANTS', u'COUNT FEMALE', u'PERCENT FEMALE', u'COUNT MALE', u'PERCENT MALE', u'COUNT GENDER UNKNOWN', u'PERCENT GENDER UNKNOWN', u'COUNT GENDER TOTAL', u'PERCENT GENDER TOTAL', u'COUNT PACIFIC ISLANDER', u'PERCENT PACIFIC ISLANDER', u'COUNT HISPANIC LATINO', u'PERCENT HISPANIC LATINO', u'COUNT AMERICAN INDIAN', u'PERCENT AMERICAN INDIAN', u'COUNT ASIAN NON HISPANIC', u'PERCENT ASIAN NON HISPANIC', u'COUNT WHITE NON HISPANIC', u'PERCENT WHITE NON HISPANIC', u'COUNT BLACK NON HISPANIC', u'PERCENT BLACK NON HISPANIC', u'COUNT OTHER ETHNICITY', u'PERCENT OTHER ETHNICITY', u'COUNT ETHNICITY UNKNOWN', u'PERCENT ETHNICITY UNKNOWN', u'COUNT ETHNICITY TOTAL', u'PERCENT ETHNICITY TOTAL', u'COUNT PERMANENT RESIDENT ALIEN', u'PERCENT PERMANENT RESIDENT ALIEN', u'COUNT US CITIZEN', u'PERCENT US CITIZEN', u'COUNT OTHER CITIZEN STATUS', u'PERCENT OTHER CITIZEN STATUS', u'COUNT CITIZEN STATUS UNKNOWN', u'PERCENT CITIZEN STATUS UNKNOWN', u'COUNT CITIZEN STATUS TOTAL', u'PERCENT CITIZEN STATUS TOTAL', u'COUNT RECEIVES PUBLIC ASSISTANCE', u'PERCENT RECEIVES PUBLIC ASSISTANCE', u'COUNT NRECEIVES PUBLIC ASSISTANCE', u'PERCENT NRECEIVES PUBLIC ASSISTANCE', u'COUNT PUBLIC ASSISTANCE UNKNOWN', u'PERCENT PUBLIC ASSISTANCE UNKNOWN', u'COUNT PUBLIC ASSISTANCE TOTAL', u'PERCENT PUBLIC ASSISTANCE TOTAL']\n"
     ]
    }
   ],
   "source": [
    "cols = demo.take(1)\n",
    "print cols[0].split(',')"
   ]
  },
  {
   "cell_type": "code",
   "execution_count": 50,
   "metadata": {
    "collapsed": true
   },
   "outputs": [],
   "source": [
    "headers = [item.replace(' ', '_') for item in cols[0].split(',')]"
   ]
  },
  {
   "cell_type": "code",
   "execution_count": 51,
   "metadata": {
    "collapsed": false
   },
   "outputs": [
    {
     "data": {
      "text/plain": [
       "[[u'10001',\n",
       "  u'44',\n",
       "  u'22',\n",
       "  u'0.5',\n",
       "  u'22',\n",
       "  u'0.5',\n",
       "  u'0',\n",
       "  u'0',\n",
       "  u'44',\n",
       "  u'100',\n",
       "  u'0',\n",
       "  u'0',\n",
       "  u'16',\n",
       "  u'0.36',\n",
       "  u'0',\n",
       "  u'0',\n",
       "  u'3',\n",
       "  u'0.07',\n",
       "  u'1',\n",
       "  u'0.02',\n",
       "  u'21',\n",
       "  u'0.48',\n",
       "  u'3',\n",
       "  u'0.07',\n",
       "  u'0',\n",
       "  u'0',\n",
       "  u'44',\n",
       "  u'100',\n",
       "  u'2',\n",
       "  u'0.05',\n",
       "  u'42',\n",
       "  u'0.95',\n",
       "  u'0',\n",
       "  u'0',\n",
       "  u'0',\n",
       "  u'0',\n",
       "  u'44',\n",
       "  u'100',\n",
       "  u'20',\n",
       "  u'0.45',\n",
       "  u'24',\n",
       "  u'0.55',\n",
       "  u'0',\n",
       "  u'0',\n",
       "  u'44',\n",
       "  u'100'],\n",
       " [u'10002',\n",
       "  u'35',\n",
       "  u'19',\n",
       "  u'0.54',\n",
       "  u'16',\n",
       "  u'0.46',\n",
       "  u'0',\n",
       "  u'0',\n",
       "  u'35',\n",
       "  u'100',\n",
       "  u'0',\n",
       "  u'0',\n",
       "  u'1',\n",
       "  u'0.03',\n",
       "  u'0',\n",
       "  u'0',\n",
       "  u'28',\n",
       "  u'0.8',\n",
       "  u'6',\n",
       "  u'0.17',\n",
       "  u'0',\n",
       "  u'0',\n",
       "  u'0',\n",
       "  u'0',\n",
       "  u'0',\n",
       "  u'0',\n",
       "  u'35',\n",
       "  u'100',\n",
       "  u'2',\n",
       "  u'0.06',\n",
       "  u'33',\n",
       "  u'0.94',\n",
       "  u'0',\n",
       "  u'0',\n",
       "  u'0',\n",
       "  u'0',\n",
       "  u'35',\n",
       "  u'100',\n",
       "  u'2',\n",
       "  u'0.06',\n",
       "  u'33',\n",
       "  u'0.94',\n",
       "  u'0',\n",
       "  u'0',\n",
       "  u'35',\n",
       "  u'100'],\n",
       " [u'10003',\n",
       "  u'1',\n",
       "  u'1',\n",
       "  u'1',\n",
       "  u'0',\n",
       "  u'0',\n",
       "  u'0',\n",
       "  u'0',\n",
       "  u'1',\n",
       "  u'100',\n",
       "  u'0',\n",
       "  u'0',\n",
       "  u'0',\n",
       "  u'0',\n",
       "  u'0',\n",
       "  u'0',\n",
       "  u'1',\n",
       "  u'1',\n",
       "  u'0',\n",
       "  u'0',\n",
       "  u'0',\n",
       "  u'0',\n",
       "  u'0',\n",
       "  u'0',\n",
       "  u'0',\n",
       "  u'0',\n",
       "  u'1',\n",
       "  u'100',\n",
       "  u'0',\n",
       "  u'0',\n",
       "  u'1',\n",
       "  u'1',\n",
       "  u'0',\n",
       "  u'0',\n",
       "  u'0',\n",
       "  u'0',\n",
       "  u'1',\n",
       "  u'100',\n",
       "  u'0',\n",
       "  u'0',\n",
       "  u'1',\n",
       "  u'1',\n",
       "  u'0',\n",
       "  u'0',\n",
       "  u'1',\n",
       "  u'100']]"
      ]
     },
     "execution_count": 51,
     "metadata": {},
     "output_type": "execute_result"
    }
   ],
   "source": [
    "raw_rows = demo.filter(lambda line: not line.startswith('JURISDICTION NAME,')).map(lambda row: row.split(','))\n",
    "raw_rows.take(3)"
   ]
  },
  {
   "cell_type": "code",
   "execution_count": 52,
   "metadata": {
    "collapsed": false
   },
   "outputs": [],
   "source": [
    "head_b = sc.broadcast(headers)\n",
    "from pyspark.sql import Row"
   ]
  },
  {
   "cell_type": "code",
   "execution_count": 53,
   "metadata": {
    "collapsed": false
   },
   "outputs": [
    {
     "data": {
      "text/plain": [
       "[Row(COUNT_AMERICAN_INDIAN=0, COUNT_ASIAN_NON_HISPANIC=3, COUNT_BLACK_NON_HISPANIC=21, COUNT_CITIZEN_STATUS_TOTAL=44, COUNT_CITIZEN_STATUS_UNKNOWN=0, COUNT_ETHNICITY_TOTAL=44, COUNT_ETHNICITY_UNKNOWN=0, COUNT_FEMALE=22, COUNT_GENDER_TOTAL=44, COUNT_GENDER_UNKNOWN=0, COUNT_HISPANIC_LATINO=16, COUNT_MALE=22, COUNT_NRECEIVES_PUBLIC_ASSISTANCE=24, COUNT_OTHER_CITIZEN_STATUS=0, COUNT_OTHER_ETHNICITY=3, COUNT_PACIFIC_ISLANDER=0, COUNT_PARTICIPANTS=44, COUNT_PERMANENT_RESIDENT_ALIEN=2, COUNT_PUBLIC_ASSISTANCE_TOTAL=44, COUNT_PUBLIC_ASSISTANCE_UNKNOWN=0, COUNT_RECEIVES_PUBLIC_ASSISTANCE=20, COUNT_US_CITIZEN=42, COUNT_WHITE_NON_HISPANIC=1, JURISDICTION_NAME=10001, PERCENT_AMERICAN_INDIAN=0, PERCENT_ASIAN_NON_HISPANIC=0.07, PERCENT_BLACK_NON_HISPANIC=0.48, PERCENT_CITIZEN_STATUS_TOTAL=100, PERCENT_CITIZEN_STATUS_UNKNOWN=0, PERCENT_ETHNICITY_TOTAL=100, PERCENT_ETHNICITY_UNKNOWN=0, PERCENT_FEMALE=0.5, PERCENT_GENDER_TOTAL=100, PERCENT_GENDER_UNKNOWN=0, PERCENT_HISPANIC_LATINO=0.36, PERCENT_MALE=0.5, PERCENT_NRECEIVES_PUBLIC_ASSISTANCE=0.55, PERCENT_OTHER_CITIZEN_STATUS=0, PERCENT_OTHER_ETHNICITY=0.07, PERCENT_PACIFIC_ISLANDER=0, PERCENT_PERMANENT_RESIDENT_ALIEN=0.05, PERCENT_PUBLIC_ASSISTANCE_TOTAL=100, PERCENT_PUBLIC_ASSISTANCE_UNKNOWN=0, PERCENT_RECEIVES_PUBLIC_ASSISTANCE=0.45, PERCENT_US_CITIZEN=0.95, PERCENT_WHITE_NON_HISPANIC=0.02),\n",
       " Row(COUNT_AMERICAN_INDIAN=0, COUNT_ASIAN_NON_HISPANIC=28, COUNT_BLACK_NON_HISPANIC=0, COUNT_CITIZEN_STATUS_TOTAL=35, COUNT_CITIZEN_STATUS_UNKNOWN=0, COUNT_ETHNICITY_TOTAL=35, COUNT_ETHNICITY_UNKNOWN=0, COUNT_FEMALE=19, COUNT_GENDER_TOTAL=35, COUNT_GENDER_UNKNOWN=0, COUNT_HISPANIC_LATINO=1, COUNT_MALE=16, COUNT_NRECEIVES_PUBLIC_ASSISTANCE=33, COUNT_OTHER_CITIZEN_STATUS=0, COUNT_OTHER_ETHNICITY=0, COUNT_PACIFIC_ISLANDER=0, COUNT_PARTICIPANTS=35, COUNT_PERMANENT_RESIDENT_ALIEN=2, COUNT_PUBLIC_ASSISTANCE_TOTAL=35, COUNT_PUBLIC_ASSISTANCE_UNKNOWN=0, COUNT_RECEIVES_PUBLIC_ASSISTANCE=2, COUNT_US_CITIZEN=33, COUNT_WHITE_NON_HISPANIC=6, JURISDICTION_NAME=10002, PERCENT_AMERICAN_INDIAN=0, PERCENT_ASIAN_NON_HISPANIC=0.8, PERCENT_BLACK_NON_HISPANIC=None, PERCENT_CITIZEN_STATUS_TOTAL=100, PERCENT_CITIZEN_STATUS_UNKNOWN=0, PERCENT_ETHNICITY_TOTAL=100, PERCENT_ETHNICITY_UNKNOWN=0, PERCENT_FEMALE=0.54, PERCENT_GENDER_TOTAL=100, PERCENT_GENDER_UNKNOWN=0, PERCENT_HISPANIC_LATINO=0.03, PERCENT_MALE=0.46, PERCENT_NRECEIVES_PUBLIC_ASSISTANCE=0.94, PERCENT_OTHER_CITIZEN_STATUS=0, PERCENT_OTHER_ETHNICITY=None, PERCENT_PACIFIC_ISLANDER=0, PERCENT_PERMANENT_RESIDENT_ALIEN=0.06, PERCENT_PUBLIC_ASSISTANCE_TOTAL=100, PERCENT_PUBLIC_ASSISTANCE_UNKNOWN=0, PERCENT_RECEIVES_PUBLIC_ASSISTANCE=0.06, PERCENT_US_CITIZEN=0.94, PERCENT_WHITE_NON_HISPANIC=0.17),\n",
       " Row(COUNT_AMERICAN_INDIAN=0, COUNT_ASIAN_NON_HISPANIC=1, COUNT_BLACK_NON_HISPANIC=0, COUNT_CITIZEN_STATUS_TOTAL=1, COUNT_CITIZEN_STATUS_UNKNOWN=0, COUNT_ETHNICITY_TOTAL=1, COUNT_ETHNICITY_UNKNOWN=0, COUNT_FEMALE=1, COUNT_GENDER_TOTAL=1, COUNT_GENDER_UNKNOWN=0, COUNT_HISPANIC_LATINO=0, COUNT_MALE=0, COUNT_NRECEIVES_PUBLIC_ASSISTANCE=1, COUNT_OTHER_CITIZEN_STATUS=0, COUNT_OTHER_ETHNICITY=0, COUNT_PACIFIC_ISLANDER=0, COUNT_PARTICIPANTS=1, COUNT_PERMANENT_RESIDENT_ALIEN=0, COUNT_PUBLIC_ASSISTANCE_TOTAL=1, COUNT_PUBLIC_ASSISTANCE_UNKNOWN=0, COUNT_RECEIVES_PUBLIC_ASSISTANCE=0, COUNT_US_CITIZEN=1, COUNT_WHITE_NON_HISPANIC=0, JURISDICTION_NAME=10003, PERCENT_AMERICAN_INDIAN=0, PERCENT_ASIAN_NON_HISPANIC=None, PERCENT_BLACK_NON_HISPANIC=None, PERCENT_CITIZEN_STATUS_TOTAL=100, PERCENT_CITIZEN_STATUS_UNKNOWN=0, PERCENT_ETHNICITY_TOTAL=100, PERCENT_ETHNICITY_UNKNOWN=0, PERCENT_FEMALE=None, PERCENT_GENDER_TOTAL=100, PERCENT_GENDER_UNKNOWN=0, PERCENT_HISPANIC_LATINO=None, PERCENT_MALE=None, PERCENT_NRECEIVES_PUBLIC_ASSISTANCE=None, PERCENT_OTHER_CITIZEN_STATUS=0, PERCENT_OTHER_ETHNICITY=None, PERCENT_PACIFIC_ISLANDER=0, PERCENT_PERMANENT_RESIDENT_ALIEN=None, PERCENT_PUBLIC_ASSISTANCE_TOTAL=100, PERCENT_PUBLIC_ASSISTANCE_UNKNOWN=0, PERCENT_RECEIVES_PUBLIC_ASSISTANCE=None, PERCENT_US_CITIZEN=None, PERCENT_WHITE_NON_HISPANIC=None)]"
      ]
     },
     "execution_count": 53,
     "metadata": {},
     "output_type": "execute_result"
    }
   ],
   "source": [
    "#this is a very naive implementation and should not be used in prod\n",
    "def detect_data(data):\n",
    "    try:\n",
    "        return int(data)\n",
    "    except ValueError:\n",
    "        pass\n",
    "    try:\n",
    "        return float(data)\n",
    "    except ValueError:\n",
    "        return data\n",
    "\n",
    "def raw_to_row(row):\n",
    "    clean_row = [detect_data(value) for value in row]\n",
    "    values_dict = dict(zip(head_b.value, clean_row))\n",
    "    return Row(**values_dict)\n",
    "\n",
    "schema_rows = raw_rows.map(raw_to_row).toDF()\n",
    "schema_rows.take(3)"
   ]
  },
  {
   "cell_type": "code",
   "execution_count": 54,
   "metadata": {
    "collapsed": true
   },
   "outputs": [],
   "source": [
    "sqlCtx.registerDataFrameAsTable(schema_rows, 'demographics')\n",
    "sqlCtx.cacheTable('demographics')"
   ]
  },
  {
   "cell_type": "code",
   "execution_count": 55,
   "metadata": {
    "collapsed": false
   },
   "outputs": [
    {
     "data": {
      "text/plain": [
       "[Row(_c0=0.97)]"
      ]
     },
     "execution_count": 55,
     "metadata": {},
     "output_type": "execute_result"
    }
   ],
   "source": [
    "sqlCtx.sql('select MAX(PERCENT_FEMALE) from demographics').collect()"
   ]
  },
  {
   "cell_type": "code",
   "execution_count": 56,
   "metadata": {
    "collapsed": false
   },
   "outputs": [
    {
     "data": {
      "text/plain": [
       "[Row(JURISDICTION_NAME=11211),\n",
       " Row(JURISDICTION_NAME=12737),\n",
       " Row(JURISDICTION_NAME=12750),\n",
       " Row(JURISDICTION_NAME=12764)]"
      ]
     },
     "execution_count": 56,
     "metadata": {},
     "output_type": "execute_result"
    }
   ],
   "source": [
    "sqlCtx.sql('select JURISDICTION_NAME from demographics where PERCENT_FEMALE > 0.90').collect()"
   ]
  },
  {
   "cell_type": "code",
   "execution_count": 57,
   "metadata": {
    "collapsed": false
   },
   "outputs": [
    {
     "data": {
      "text/plain": [
       "[u'demographics', u'business', u'demographics_hive', u'demographics_parquet']"
      ]
     },
     "execution_count": 57,
     "metadata": {},
     "output_type": "execute_result"
    }
   ],
   "source": [
    "sqlCtx.tableNames()"
   ]
  },
  {
   "cell_type": "code",
   "execution_count": 45,
   "metadata": {
    "collapsed": true
   },
   "outputs": [],
   "source": [
    "demo = sqlCtx.table('demographics')"
   ]
  },
  {
   "cell_type": "code",
   "execution_count": 47,
   "metadata": {
    "collapsed": false
   },
   "outputs": [],
   "source": [
    "demo.write.format('parquet').saveAsTable('demographics_parquet')"
   ]
  },
  {
   "cell_type": "code",
   "execution_count": null,
   "metadata": {
    "collapsed": true
   },
   "outputs": [],
   "source": []
  }
 ],
 "metadata": {
  "kernelspec": {
   "display_name": "Python 2",
   "language": "python",
   "name": "python2"
  },
  "language_info": {
   "codemirror_mode": {
    "name": "ipython",
    "version": 2
   },
   "file_extension": ".py",
   "mimetype": "text/x-python",
   "name": "python",
   "nbconvert_exporter": "python",
   "pygments_lexer": "ipython2",
   "version": "2.7.5"
  }
 },
 "nbformat": 4,
 "nbformat_minor": 0
}
