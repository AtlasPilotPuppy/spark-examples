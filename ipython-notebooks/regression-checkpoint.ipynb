{
 "metadata": {
  "name": ""
 },
 "nbformat": 3,
 "nbformat_minor": 0,
 "worksheets": [
  {
   "cells": [
    {
     "cell_type": "code",
     "collapsed": false,
     "input": [
      "from pyspark.mllib.regression import LabeledPoint\n",
      "from pyspark.mllib.tree import DecisionTree\n",
      "from pyspark.mllib.util import MLUtils\n"
     ],
     "language": "python",
     "metadata": {},
     "outputs": [],
     "prompt_number": 1
    },
    {
     "cell_type": "code",
     "collapsed": false,
     "input": [
      "data = MLUtils.loadLibSVMFile(sc, '/home/anant/projects/spark-examples/data/sample_libsvm_data.txt').cache()\n"
     ],
     "language": "python",
     "metadata": {},
     "outputs": [],
     "prompt_number": 2
    },
    {
     "cell_type": "code",
     "collapsed": false,
     "input": [
      "# Train a DecisionTree model.\n",
      "#  Empty categoricalFeaturesInfo indicates all features are continuous.\n",
      "model = DecisionTree.trainRegressor(data, categoricalFeaturesInfo={},\n",
      "                                    impurity='variance', maxDepth=5, maxBins=100)\n"
     ],
     "language": "python",
     "metadata": {},
     "outputs": [],
     "prompt_number": 3
    },
    {
     "cell_type": "code",
     "collapsed": false,
     "input": [
      "# Evaluate model on training instances and compute training error\n",
      "predictions = model.predict(data.map(lambda x: x.features))\n",
      "labelsAndPredictions = data.map(lambda lp: lp.label).zip(predictions)\n",
      "trainMSE = labelsAndPredictions.map(lambda (v, p): (v - p) * (v - p)).sum() / float(data.count())\n",
      "print('Training Mean Squared Error = ' + str(trainMSE))\n",
      "print('Learned regression tree model:')\n",
      "print(model)"
     ],
     "language": "python",
     "metadata": {},
     "outputs": [
      {
       "output_type": "stream",
       "stream": "stdout",
       "text": [
        "Training Mean Squared Error = 0.0\n",
        "Learned regression tree model:\n",
        "DecisionTreeModel regressor\n",
        "  If (feature 434 <= 0.0)\n",
        "   If (feature 100 <= 193.5)\n",
        "    Predict: 0.0\n",
        "   Else (feature 100 > 193.5)\n",
        "    Predict: 1.0\n",
        "  Else (feature 434 > 0.0)\n",
        "   Predict: 1.0\n",
        "\n"
       ]
      }
     ],
     "prompt_number": 4
    },
    {
     "cell_type": "code",
     "collapsed": false,
     "input": [],
     "language": "python",
     "metadata": {},
     "outputs": []
    }
   ],
   "metadata": {}
  }
 ]
}