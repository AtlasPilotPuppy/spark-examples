{
 "cells": [
  {
   "cell_type": "code",
   "execution_count": 1,
   "metadata": {
    "collapsed": false
   },
   "outputs": [
    {
     "data": {
      "text/plain": [
       "[u'for a few weeks, and when accident separates them, so easily forgets',\n",
       " u'officer, sometimes another, had been her favourite, as their attentions',\n",
       " u\"entirely deceived in Miss Bingley's regard for me. But, my dear sister,\",\n",
       " u'',\n",
       " u'most humiliating picture! And to the pang of a friend disgracing herself']"
      ]
     },
     "execution_count": 1,
     "metadata": {},
     "output_type": "execute_result"
    }
   ],
   "source": [
    "corpus = sc.textFile(\"../data/pg1342.txt\")\n",
    "corpus.cache()\n",
    "corpus.takeSample(True, 5)"
   ]
  },
  {
   "cell_type": "code",
   "execution_count": 2,
   "metadata": {
    "collapsed": false
   },
   "outputs": [
    {
     "data": {
      "text/plain": [
       "[u'could', u'by', u'momentary', u'far', u'a']"
      ]
     },
     "execution_count": 2,
     "metadata": {},
     "output_type": "execute_result"
    }
   ],
   "source": [
    "word_split = corpus.flatMap(lambda line: line.split(\" \")).filter(lambda element: len(element) > 0)\n",
    "word_split.takeSample(True, 5)"
   ]
  },
  {
   "cell_type": "code",
   "execution_count": 3,
   "metadata": {
    "collapsed": false
   },
   "outputs": [
    {
     "data": {
      "text/plain": [
       "[(u'intimation', 1),\n",
       " (u'explaining', 1),\n",
       " (u'respect,', 1),\n",
       " (u'the', 1),\n",
       " (u'his', 1)]"
      ]
     },
     "execution_count": 3,
     "metadata": {},
     "output_type": "execute_result"
    }
   ],
   "source": [
    "mapped = word_split.map(lambda word: (word.lower(), 1))\n",
    "mapped.takeSample(True, 5)"
   ]
  },
  {
   "cell_type": "code",
   "execution_count": 4,
   "metadata": {
    "collapsed": false
   },
   "outputs": [
    {
     "data": {
      "text/plain": [
       "[(u'proudest,', 1),\n",
       " (u'compliments', 9),\n",
       " (u'valuable.', 1),\n",
       " (u'slept', 1),\n",
       " (u\"performer's\", 1)]"
      ]
     },
     "execution_count": 4,
     "metadata": {},
     "output_type": "execute_result"
    }
   ],
   "source": [
    "reduced = mapped.reduceByKey(lambda a, b: a+b)\n",
    "reduced.takeSample(True, 5)"
   ]
  },
  {
   "cell_type": "code",
   "execution_count": 5,
   "metadata": {
    "collapsed": false
   },
   "outputs": [
    {
     "data": {
      "text/plain": [
       "[(4479, u'the'),\n",
       " (4169, u'to'),\n",
       " (3680, u'of'),\n",
       " (3398, u'and'),\n",
       " (1982, u'a'),\n",
       " (1941, u'her'),\n",
       " (1890, u'in'),\n",
       " (1798, u'was'),\n",
       " (1740, u'i'),\n",
       " (1611, u'she')]"
      ]
     },
     "execution_count": 5,
     "metadata": {},
     "output_type": "execute_result"
    }
   ],
   "source": [
    "swapped = reduced.map(lambda row: (row[1], row[0])).sortByKey(ascending=False)\n",
    "swapped.take(10)"
   ]
  },
  {
   "cell_type": "code",
   "execution_count": 6,
   "metadata": {
    "collapsed": false
   },
   "outputs": [
    {
     "data": {
      "text/plain": [
       "[(u'the', 4479),\n",
       " (u'to', 4169),\n",
       " (u'of', 3680),\n",
       " (u'and', 3398),\n",
       " (u'a', 1982),\n",
       " (u'her', 1941),\n",
       " (u'in', 1890),\n",
       " (u'was', 1798),\n",
       " (u'i', 1740),\n",
       " (u'she', 1611)]"
      ]
     },
     "execution_count": 6,
     "metadata": {},
     "output_type": "execute_result"
    }
   ],
   "source": [
    "unswapped = swapped.map(lambda row: (row[1], row[0]))\n",
    "unswapped.take(10)"
   ]
  },
  {
   "cell_type": "code",
   "execution_count": 8,
   "metadata": {
    "collapsed": false
   },
   "outputs": [],
   "source": [
    "#concise implementation\n",
    "from operator import add\n",
    "swap = lambda row: (row[1], row[0])\n",
    "words = sc.textFile(\"../data/pg1342.txt\").flatMap(lambda line: line.split(\" \"))\n",
    "words.cache()\n",
    "counts = words.filter(lambda element: len(element) > 0).map(\n",
    "  lambda word: (word, 1)).reduceByKey(add).map(swap).sortByKey(ascending=False).map(swap).collect()                  "
   ]
  },
  {
   "cell_type": "code",
   "execution_count": 15,
   "metadata": {
    "collapsed": false
   },
   "outputs": [
    {
     "data": {
      "text/plain": [
       "[(u'the', 4205),\n",
       " (u'to', 4121),\n",
       " (u'of', 3662),\n",
       " (u'and', 3309),\n",
       " (u'a', 1945),\n",
       " (u'her', 1858),\n",
       " (u'in', 1813),\n",
       " (u'was', 1796),\n",
       " (u'I', 1740),\n",
       " (u'that', 1419)]"
      ]
     },
     "execution_count": 15,
     "metadata": {},
     "output_type": "execute_result"
    }
   ],
   "source": [
    "counts[:10]"
   ]
  },
  {
   "cell_type": "code",
   "execution_count": null,
   "metadata": {
    "collapsed": false
   },
   "outputs": [],
   "source": []
  }
 ],
 "metadata": {
  "kernelspec": {
   "display_name": "Python 2",
   "language": "python",
   "name": "python2"
  },
  "language_info": {
   "codemirror_mode": {
    "name": "ipython",
    "version": 2
   },
   "file_extension": ".py",
   "mimetype": "text/x-python",
   "name": "python",
   "nbconvert_exporter": "python",
   "pygments_lexer": "ipython2",
   "version": "2.7.6"
  }
 },
 "nbformat": 4,
 "nbformat_minor": 0
}
